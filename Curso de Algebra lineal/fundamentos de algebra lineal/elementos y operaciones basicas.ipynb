{
 "cells": [
  {
   "attachments": {},
   "cell_type": "markdown",
   "metadata": {},
   "source": [
    "# Dimensión de un escalar, vector, matriz y tensor\n",
    "En algebra lineal, tenemos distintos elementos dependiendo de los grados de libertad (gl) que estos tengan.\n",
    "\n",
    "- Escalares: Es básicamente un número. En python puede ser entero, flotante o un booleano (0 o 1), con rango = 0\n",
    "\n",
    "- Vectores: Serie de números. En python se representan con arrays y con rango = 1\n",
    "\n",
    "- Matrices: Arreglso de números. En python se representan con arreglos de arrays y con rango = 2\n",
    "\n",
    "- Tensores. Arreglos de números con rango $\\geq$ 3. En python se representan con arreglos de matrices."
   ]
  },
  {
   "cell_type": "code",
   "execution_count": 5,
   "metadata": {},
   "outputs": [
    {
     "name": "stdout",
     "output_type": "stream",
     "text": [
      "5\n",
      "2.5\n",
      "True\n"
     ]
    }
   ],
   "source": [
    "escalar1 =  5\n",
    "escalar2 = 2.5\n",
    "escalar3 = True\n",
    "print(escalar1, escalar2, escalar3, sep = '\\n')"
   ]
  },
  {
   "cell_type": "code",
   "execution_count": 9,
   "metadata": {},
   "outputs": [],
   "source": [
    "import numpy as np\n",
    "import matplotlib.pyplot as plt"
   ]
  },
  {
   "cell_type": "code",
   "execution_count": 8,
   "metadata": {},
   "outputs": [
    {
     "name": "stdout",
     "output_type": "stream",
     "text": [
      "[1 2 3 4 5]\n",
      "\n",
      "[[1 2 3]\n",
      " [4 5 6]\n",
      " [7 8 9]]\n",
      "\n",
      "[[[  0   0   0]\n",
      "  [  0   0   0]\n",
      "  [  0   0   0]]\n",
      "\n",
      " [[128 128 128]\n",
      "  [128 128 128]\n",
      "  [128 128 128]]\n",
      "\n",
      " [[255 255 255]\n",
      "  [255 255 255]\n",
      "  [255 255 255]]]\n"
     ]
    }
   ],
   "source": [
    "vector = np.array([1,2,3,4,5])\n",
    "\n",
    "matriz = np.array([\n",
    "    [1,2,3],\n",
    "    [4,5,6],\n",
    "    [7,8,9]\n",
    "])\n",
    "\n",
    "tensor = np.array([\n",
    "    [[0,0,0], [0,0,0], [0,0,0]],\n",
    "    [[128,128,128],[128,128,128],[128,128,128]],\n",
    "    [[255,255,255],[255,255,255],[255,255,255]]\n",
    "])\n",
    "print(vector, matriz,tensor,  sep = '\\n\\n')"
   ]
  },
  {
   "cell_type": "code",
   "execution_count": 10,
   "metadata": {},
   "outputs": [
    {
     "data": {
      "text/plain": [
       "<matplotlib.image.AxesImage at 0x7ff6dda8dff0>"
      ]
     },
     "execution_count": 10,
     "metadata": {},
     "output_type": "execute_result"
    },
    {
     "data": {
      "image/png": "[encoded data removed]",
      "text/plain": [
       "<Figure size 640x480 with 1 Axes>"
      ]
     },
     "metadata": {},
     "output_type": "display_data"
    }
   ],
   "source": [
    "# damos una representación grafica del tensor\n",
    "# por medio del comando imshow\n",
    "# el 0 representa el negro, mientras que el 255 es el blanco\n",
    "# los valores de en medio es la escala de grises\n",
    "plt.imshow(tensor, interpolation='nearest')"
   ]
  },
  {
   "attachments": {},
   "cell_type": "markdown",
   "metadata": {},
   "source": [
    "A continuación veremos las dimensiones:"
   ]
  },
  {
   "cell_type": "code",
   "execution_count": 21,
   "metadata": {},
   "outputs": [],
   "source": [
    "escalar = 5.6\n",
    "vector = np.array([1,2,3])\n",
    "matriz = np.array([[1,2],[2,3], [4,5]])\n",
    "tensor = np.array([\n",
    "    [[0,0,0], [0,0,0], [0,0,0]],\n",
    "    [[128,128,128],[128,128,128],[128,128,128]],\n",
    "    [[255,255,255],[255,255,255],[255,255,255]]\n",
    "])"
   ]
  },
  {
   "cell_type": "code",
   "execution_count": 22,
   "metadata": {},
   "outputs": [],
   "source": [
    "# Arrojará error pues un escalar es de rango 0 \n",
    "#escalar.shape"
   ]
  },
  {
   "cell_type": "code",
   "execution_count": 23,
   "metadata": {},
   "outputs": [
    {
     "data": {
      "text/plain": [
       "(3,)"
      ]
     },
     "execution_count": 23,
     "metadata": {},
     "output_type": "execute_result"
    }
   ],
   "source": [
    "#vector de 3 elementos\n",
    "vector.shape"
   ]
  },
  {
   "cell_type": "code",
   "execution_count": 24,
   "metadata": {},
   "outputs": [
    {
     "data": {
      "text/plain": [
       "(3, 2)"
      ]
     },
     "execution_count": 24,
     "metadata": {},
     "output_type": "execute_result"
    }
   ],
   "source": [
    "#matriz 3x2\n",
    "matriz.shape"
   ]
  },
  {
   "cell_type": "code",
   "execution_count": 25,
   "metadata": {},
   "outputs": [
    {
     "data": {
      "text/plain": [
       "(3, 3, 3)"
      ]
     },
     "execution_count": 25,
     "metadata": {},
     "output_type": "execute_result"
    }
   ],
   "source": [
    "# tensor 3x3x3\n",
    "tensor.shape"
   ]
  },
  {
   "attachments": {},
   "cell_type": "markdown",
   "metadata": {},
   "source": [
    "Una cosa diferente es el tamaño, que es el número de elementos:"
   ]
  },
  {
   "cell_type": "code",
   "execution_count": 16,
   "metadata": {},
   "outputs": [
    {
     "data": {
      "text/plain": [
       "3"
      ]
     },
     "execution_count": 16,
     "metadata": {},
     "output_type": "execute_result"
    }
   ],
   "source": [
    "vector.size"
   ]
  },
  {
   "cell_type": "code",
   "execution_count": 17,
   "metadata": {},
   "outputs": [
    {
     "data": {
      "text/plain": [
       "4"
      ]
     },
     "execution_count": 17,
     "metadata": {},
     "output_type": "execute_result"
    }
   ],
   "source": [
    "matriz.size"
   ]
  },
  {
   "cell_type": "code",
   "execution_count": 18,
   "metadata": {},
   "outputs": [
    {
     "data": {
      "text/plain": [
       "27"
      ]
     },
     "execution_count": 18,
     "metadata": {},
     "output_type": "execute_result"
    }
   ],
   "source": [
    "tensor.size"
   ]
  },
  {
   "attachments": {},
   "cell_type": "markdown",
   "metadata": {},
   "source": [
    "### Operaciones básicas\n",
    "**Transposición:** Los renglones los pasa a columnas. Una matriz o vector transpuesto se denota por $M^{T}$"
   ]
  },
  {
   "cell_type": "code",
   "execution_count": 20,
   "metadata": {},
   "outputs": [
    {
     "data": {
      "text/plain": [
       "array([1, 2, 3])"
      ]
     },
     "execution_count": 20,
     "metadata": {},
     "output_type": "execute_result"
    }
   ],
   "source": [
    "# a simple vista no se ve diferneica para el caso de vectores\n",
    "vector_t = vector.T\n",
    "vector_t"
   ]
  },
  {
   "cell_type": "code",
   "execution_count": 26,
   "metadata": {},
   "outputs": [
    {
     "data": {
      "text/plain": [
       "array([[1, 2, 4],\n",
       "       [2, 3, 5]])"
      ]
     },
     "execution_count": 26,
     "metadata": {},
     "output_type": "execute_result"
    }
   ],
   "source": [
    "matriz_t = matriz.T\n",
    "matriz_t"
   ]
  },
  {
   "cell_type": "code",
   "execution_count": 28,
   "metadata": {},
   "outputs": [
    {
     "data": {
      "text/plain": [
       "(2, 3)"
      ]
     },
     "execution_count": 28,
     "metadata": {},
     "output_type": "execute_result"
    }
   ],
   "source": [
    "matriz_t.shape"
   ]
  },
  {
   "cell_type": "code",
   "execution_count": 29,
   "metadata": {},
   "outputs": [
    {
     "data": {
      "text/plain": [
       "array([[[  0, 128, 255],\n",
       "        [  0, 128, 255],\n",
       "        [  0, 128, 255]],\n",
       "\n",
       "       [[  0, 128, 255],\n",
       "        [  0, 128, 255],\n",
       "        [  0, 128, 255]],\n",
       "\n",
       "       [[  0, 128, 255],\n",
       "        [  0, 128, 255],\n",
       "        [  0, 128, 255]]])"
      ]
     },
     "execution_count": 29,
     "metadata": {},
     "output_type": "execute_result"
    }
   ],
   "source": [
    "tensor_T = tensor.T\n",
    "tensor_T"
   ]
  },
  {
   "attachments": {},
   "cell_type": "markdown",
   "metadata": {},
   "source": [
    "Propiedades de la transpuesta:\n",
    "$(A^t)^t = A$"
   ]
  },
  {
   "attachments": {},
   "cell_type": "markdown",
   "metadata": {},
   "source": [
    "**Suma de matrices:** Solo se cumple cuando ambas matrices son de las mismas dimensiones. La suma es entrada por entrada."
   ]
  },
  {
   "cell_type": "code",
   "execution_count": 35,
   "metadata": {},
   "outputs": [
    {
     "name": "stdout",
     "output_type": "stream",
     "text": [
      "[[1 2]\n",
      " [2 3]\n",
      " [4 5]]\n",
      "\n",
      "[[1 1]\n",
      " [2 2]\n",
      " [1 1]]\n",
      "\n",
      "[[2 3]\n",
      " [4 5]\n",
      " [5 6]]\n"
     ]
    }
   ],
   "source": [
    "A = matriz\n",
    "B = np.array([[1,1],[2,2],[1,1]])\n",
    "print(A,B,A+B, sep = '\\n\\n')"
   ]
  },
  {
   "attachments": {},
   "cell_type": "markdown",
   "metadata": {},
   "source": [
    "### Broadcasting\n",
    "Operaciones entre elementos de dimensiones distintas. Esto está sujeto a reglas de extensión de dimensión para completar la de mayor tamaño"
   ]
  },
  {
   "cell_type": "code",
   "execution_count": 36,
   "metadata": {},
   "outputs": [],
   "source": [
    "escalar = 5.6\n",
    "vector = np.array([1,2,3])\n",
    "matriz = np.array([[1,2],[2,3], [4,5]])"
   ]
  },
  {
   "cell_type": "code",
   "execution_count": 37,
   "metadata": {},
   "outputs": [
    {
     "data": {
      "text/plain": [
       "array([6.6, 7.6, 8.6])"
      ]
     },
     "execution_count": 37,
     "metadata": {},
     "output_type": "execute_result"
    }
   ],
   "source": [
    "# vector + escalar, suma del escalar en cada una de las entradas\n",
    "vector + escalar"
   ]
  },
  {
   "cell_type": "code",
   "execution_count": 38,
   "metadata": {},
   "outputs": [
    {
     "data": {
      "text/plain": [
       "array([[ 6.6,  7.6],\n",
       "       [ 7.6,  8.6],\n",
       "       [ 9.6, 10.6]])"
      ]
     },
     "execution_count": 38,
     "metadata": {},
     "output_type": "execute_result"
    }
   ],
   "source": [
    "# matriz + escalar\n",
    "matriz + escalar"
   ]
  },
  {
   "cell_type": "code",
   "execution_count": 41,
   "metadata": {},
   "outputs": [
    {
     "data": {
      "text/plain": [
       "array([[2, 4, 7],\n",
       "       [3, 5, 8]])"
      ]
     },
     "execution_count": 41,
     "metadata": {},
     "output_type": "execute_result"
    }
   ],
   "source": [
    "# matriz + vector\n",
    "matriz.T + vector"
   ]
  }
 ],
 "metadata": {
  "kernelspec": {
   "display_name": "env",
   "language": "python",
   "name": "python3"
  },
  "language_info": {
   "codemirror_mode": {
    "name": "ipython",
    "version": 3
   },
   "file_extension": ".py",
   "mimetype": "text/x-python",
   "name": "python",
   "nbconvert_exporter": "python",
   "pygments_lexer": "ipython3",
   "version": "3.10.6 (main, Nov 14 2022, 16:10:14) [GCC 11.3.0]"
  },
  "orig_nbformat": 4,
  "vscode": {
   "interpreter": {
    "hash": "2637924643e3b3032b1185bf03999faff7578ef90cd0239f3e121143d24aa795"
   }
  }
 },
 "nbformat": 4,
 "nbformat_minor": 2
}
