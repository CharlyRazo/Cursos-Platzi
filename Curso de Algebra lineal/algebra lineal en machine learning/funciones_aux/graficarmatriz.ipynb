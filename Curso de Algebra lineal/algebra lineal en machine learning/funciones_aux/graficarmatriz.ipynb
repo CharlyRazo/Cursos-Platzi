{
 "cells": [
  {
   "cell_type": "code",
   "execution_count": 4,
   "metadata": {},
   "outputs": [],
   "source": [
    "def graficarMatriz(matriz, vectorCol=['red', 'blue']):\n",
    "    \n",
    "    #círculo unitario\n",
    "    x = np.linspace(-1, 1, 100000)\n",
    "    y = np.sqrt(1 - (x**2))\n",
    "    \n",
    "    #Transformamos x e y en una matriz de vectores x, y\n",
    "    vector_x_y = np.array([x, y])\n",
    "    \n",
    "    # círculo unitario transformado\n",
    "    prod_punto = matriz.dot(vector_x_y)\n",
    "    \n",
    "    #vectores\n",
    "    u1 = [matriz[0, 0], matriz[1, 0]]\n",
    "    v1 = [matriz[0, 1], matriz[1, 1]]\n",
    "    \n",
    "    graficarvector([u1, v1], cols=[vectorCol[0], vectorCol[1]])\n",
    "    \n",
    "    plt.plot(prod_punto[0], prod_punto[1], 'orange', alpha = 0.7)\n",
    "    plt.plot(-prod_punto[0], -prod_punto[1], 'green', alpha = 0.7)"
   ]
  }
 ],
 "metadata": {
  "kernelspec": {
   "display_name": "env",
   "language": "python",
   "name": "python3"
  },
  "language_info": {
   "codemirror_mode": {
    "name": "ipython",
    "version": 3
   },
   "file_extension": ".py",
   "mimetype": "text/x-python",
   "name": "python",
   "nbconvert_exporter": "python",
   "pygments_lexer": "ipython3",
   "version": "3.10.6"
  },
  "orig_nbformat": 4,
  "vscode": {
   "interpreter": {
    "hash": "2637924643e3b3032b1185bf03999faff7578ef90cd0239f3e121143d24aa795"
   }
  }
 },
 "nbformat": 4,
 "nbformat_minor": 2
}
