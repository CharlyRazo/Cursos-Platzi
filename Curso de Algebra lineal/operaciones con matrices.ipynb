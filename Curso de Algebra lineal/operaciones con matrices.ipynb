{
 "cells": [
  {
   "attachments": {},
   "cell_type": "markdown",
   "metadata": {},
   "source": [
    "# Producto de matrices\n",
    "Producto entre matriz con vector"
   ]
  },
  {
   "cell_type": "code",
   "execution_count": 2,
   "metadata": {},
   "outputs": [],
   "source": [
    "import numpy as np"
   ]
  },
  {
   "cell_type": "code",
   "execution_count": 3,
   "metadata": {},
   "outputs": [],
   "source": [
    "escalr = 5.6\n",
    "vector = np.array([2,3])\n",
    "matriz = np.array([[1,2], [3,4], [5,6]])"
   ]
  },
  {
   "cell_type": "code",
   "execution_count": 19,
   "metadata": {},
   "outputs": [
    {
     "name": "stdout",
     "output_type": "stream",
     "text": [
      "[[ 2  6]\n",
      " [ 6 12]\n",
      " [10 18]]\n",
      "\n",
      "[ 8 18 28]\n"
     ]
    }
   ],
   "source": [
    "A = matriz * vector # broadcasting (3,2) * (2) = (3,2)\n",
    "B = matriz.dot(vector) # producto interno (3,2) x (2,1) = (3,1)\n",
    "\n",
    "print(A,B, sep = '\\n\\n')"
   ]
  },
  {
   "cell_type": "code",
   "execution_count": 8,
   "metadata": {},
   "outputs": [
    {
     "data": {
      "text/plain": [
       "array([ 8, 18, 28])"
      ]
     },
     "execution_count": 8,
     "metadata": {},
     "output_type": "execute_result"
    }
   ],
   "source": [
    "# el producto interno tambien se puede escribir como sigue\n",
    "np.dot(matriz, vector)"
   ]
  },
  {
   "cell_type": "code",
   "execution_count": 10,
   "metadata": {},
   "outputs": [],
   "source": [
    "#aqui surge error por que las dimensiones no permiten el producto\n",
    "#np.dot(vector, matriz)"
   ]
  },
  {
   "attachments": {},
   "cell_type": "markdown",
   "metadata": {},
   "source": [
    "Producto entre matrices"
   ]
  },
  {
   "cell_type": "code",
   "execution_count": 11,
   "metadata": {},
   "outputs": [],
   "source": [
    "A = np.array([[1,2,3], [4,5,6], [7,8,9], [10,11,12]])\n",
    "B = np.array([[2,3],[5,7],[11,13]])"
   ]
  },
  {
   "cell_type": "code",
   "execution_count": 12,
   "metadata": {},
   "outputs": [
    {
     "name": "stdout",
     "output_type": "stream",
     "text": [
      "(4, 3)\n"
     ]
    }
   ],
   "source": [
    "# 4 filas y 3 columnas\n",
    "print(A.shape)"
   ]
  },
  {
   "cell_type": "code",
   "execution_count": 14,
   "metadata": {},
   "outputs": [
    {
     "name": "stdout",
     "output_type": "stream",
     "text": [
      "(3, 2)\n"
     ]
    }
   ],
   "source": [
    "# 3 filas y 2 columnas\n",
    "print(B.shape)"
   ]
  },
  {
   "cell_type": "code",
   "execution_count": 17,
   "metadata": {},
   "outputs": [
    {
     "data": {
      "text/plain": [
       "array([[ 45,  56],\n",
       "       [ 99, 125],\n",
       "       [153, 194],\n",
       "       [207, 263]])"
      ]
     },
     "execution_count": 17,
     "metadata": {},
     "output_type": "execute_result"
    }
   ],
   "source": [
    "C = A.dot(B)  #(4,3) x (3,2) si se puede\n",
    "C"
   ]
  },
  {
   "cell_type": "code",
   "execution_count": 16,
   "metadata": {},
   "outputs": [],
   "source": [
    "# D = B.dot(A) $ (3,4) x (2,4) NO se puede"
   ]
  },
  {
   "cell_type": "code",
   "execution_count": 18,
   "metadata": {},
   "outputs": [
    {
     "data": {
      "text/plain": [
       "array([[0, 3],\n",
       "       [0, 3]])"
      ]
     },
     "execution_count": 18,
     "metadata": {},
     "output_type": "execute_result"
    }
   ],
   "source": [
    "d = np.array([[1,2],[1,2]])\n",
    "c = np.array([[0,1],[0,1]])\n",
    "d.dot(c)"
   ]
  },
  {
   "attachments": {},
   "cell_type": "markdown",
   "metadata": {},
   "source": [
    "### Propiedades del producto entre matrices\n",
    "Se puede dar cuando el numero de columnas de la primera coincide con el numero de renglones de la segunda:\n",
    "$$ A_{i,j} \\times B_{j,k} = C_{i,k} $$\n",
    "Además, tiene las siguientes propiedades\n",
    "- Asociativa: $A\\times (B \\times C) = (A\\times B) \\times C $\n",
    "- Distributiva: $A\\times (B + C) = A\\times B + A\\times C $\n",
    "- No es conmutativa : $A\\times B \\neq B \\times A$ "
   ]
  },
  {
   "cell_type": "code",
   "execution_count": 21,
   "metadata": {},
   "outputs": [],
   "source": [
    "A = np.array([[2,3],[5,7],[11,13]]) # (3,2)\n",
    "B = np.array([[1,3],[2,1]]) # (2,2)\n",
    "C = np.array([[3,1],[4,2]]) # (2,2)"
   ]
  },
  {
   "cell_type": "code",
   "execution_count": 24,
   "metadata": {},
   "outputs": [
    {
     "name": "stdout",
     "output_type": "stream",
     "text": [
      "[[ 60  26]\n",
      " [145  63]\n",
      " [295 129]]\n",
      "[[ 60  26]\n",
      " [145  63]\n",
      " [295 129]]\n"
     ]
    }
   ],
   "source": [
    "# Asociativa\n",
    "ABC = A.dot(B.dot(C))\n",
    "AB_C =  (A.dot(B)).dot(C)\n",
    "\n",
    "print(ABC, AB_C, sep=\"\\n\")"
   ]
  },
  {
   "cell_type": "code",
   "execution_count": 25,
   "metadata": {},
   "outputs": [
    {
     "name": "stdout",
     "output_type": "stream",
     "text": [
      "[[ 26  17]\n",
      " [ 62  41]\n",
      " [122  83]]\n",
      "[[ 26  17]\n",
      " [ 62  41]\n",
      " [122  83]]\n"
     ]
    }
   ],
   "source": [
    "# Distirbutiva\n",
    "D = A.dot(B + C)\n",
    "E = (A.dot(B)) + (A.dot(C))\n",
    "\n",
    "print(D,E,sep = '\\n')"
   ]
  },
  {
   "cell_type": "code",
   "execution_count": 26,
   "metadata": {},
   "outputs": [
    {
     "name": "stdout",
     "output_type": "stream",
     "text": [
      "[[15  7]\n",
      " [10  4]]\n",
      "[[ 5 10]\n",
      " [ 8 14]]\n"
     ]
    }
   ],
   "source": [
    "# Conmutativa\n",
    "F = B.dot(C)  #(2,2) x (2,2)\n",
    "G = C.dot(B)  #(2,2) x (2,2)\n",
    "\n",
    "print(F,G,sep = '\\n')"
   ]
  },
  {
   "attachments": {},
   "cell_type": "markdown",
   "metadata": {},
   "source": [
    "# Transposición\n",
    "- $(AB)^{t} =  B^tA^t$\n",
    "- $(A^t)^t$"
   ]
  },
  {
   "cell_type": "code",
   "execution_count": 27,
   "metadata": {},
   "outputs": [],
   "source": [
    "A = np.array([[2,3],[5,7],[11,13]]) # (3,2)\n",
    "B = np.array([[1,3],[2,1]]) # (2,2)"
   ]
  },
  {
   "cell_type": "code",
   "execution_count": 30,
   "metadata": {},
   "outputs": [
    {
     "name": "stdout",
     "output_type": "stream",
     "text": [
      "[[ 8 19 37]\n",
      " [ 9 22 46]]\n",
      "[[ 8 19 37]\n",
      " [ 9 22 46]]\n"
     ]
    }
   ],
   "source": [
    "# Primera propiedad\n",
    "AB_t = A.dot(B).T\n",
    "B_tA_t = B.T.dot(A.T)\n",
    "\n",
    "print(AB_t, B_tA_t, sep= '\\n')"
   ]
  },
  {
   "cell_type": "code",
   "execution_count": 31,
   "metadata": {},
   "outputs": [
    {
     "name": "stdout",
     "output_type": "stream",
     "text": [
      "[[ 2  3]\n",
      " [ 5  7]\n",
      " [11 13]]\n",
      "[[ 2  3]\n",
      " [ 5  7]\n",
      " [11 13]]\n"
     ]
    }
   ],
   "source": [
    "# segunda propiedad\n",
    "A_t_t = A.T.T\n",
    "print(A, A_t_t, sep= '\\n')"
   ]
  },
  {
   "attachments": {},
   "cell_type": "markdown",
   "metadata": {},
   "source": [
    "# Matriz identidad, inversa, singular"
   ]
  },
  {
   "attachments": {},
   "cell_type": "markdown",
   "metadata": {},
   "source": [
    "Matriz identidad: Es aquella cuya diagonal está llena de 1 y 0 fuera de ella. Se denota por I y satisface:\n",
    "$$I \\times A  = A $$\n",
    "\n",
    "Es el neutro multiplicativo"
   ]
  },
  {
   "cell_type": "code",
   "execution_count": 32,
   "metadata": {},
   "outputs": [
    {
     "data": {
      "text/plain": [
       "array([[1., 0., 0., 0.],\n",
       "       [0., 1., 0., 0.],\n",
       "       [0., 0., 1., 0.],\n",
       "       [0., 0., 0., 1.]])"
      ]
     },
     "execution_count": 32,
     "metadata": {},
     "output_type": "execute_result"
    }
   ],
   "source": [
    "identidad = np.eye(4)  #(4,4)\n",
    "identidad"
   ]
  },
  {
   "cell_type": "code",
   "execution_count": 35,
   "metadata": {},
   "outputs": [
    {
     "name": "stdout",
     "output_type": "stream",
     "text": [
      "[[1.]\n",
      " [2.]\n",
      " [3.]\n",
      " [4.]]\n"
     ]
    }
   ],
   "source": [
    "vector = np.array([[1],[2],[3],[4]]) #(1,4)\n",
    "print(identidad.dot(vector))"
   ]
  },
  {
   "attachments": {},
   "cell_type": "markdown",
   "metadata": {},
   "source": [
    "Matriz inversa: Es aquella tal que multiplicada por una matriz A, nos da la identidad. Se denota por $A^{-1}$  y es el inverso multiplicativo.\n",
    "\n",
    "$A \\times A^{-1} = A^{-1} \\times A=I$\n",
    "\n",
    "- Cuando una matriz NO tiene inversa, se le llama matriz signular.\n",
    "\n",
    "- Solo las matrices cuadradas tienen inversa"
   ]
  },
  {
   "cell_type": "code",
   "execution_count": 39,
   "metadata": {},
   "outputs": [],
   "source": [
    "C = np.array([[1,2],[3,4]])"
   ]
  },
  {
   "cell_type": "code",
   "execution_count": 40,
   "metadata": {},
   "outputs": [
    {
     "data": {
      "text/plain": [
       "array([[-2. ,  1. ],\n",
       "       [ 1.5, -0.5]])"
      ]
     },
     "execution_count": 40,
     "metadata": {},
     "output_type": "execute_result"
    }
   ],
   "source": [
    "inversa_C = np.linalg.inv(C)\n",
    "inversa_C"
   ]
  },
  {
   "cell_type": "code",
   "execution_count": 41,
   "metadata": {},
   "outputs": [
    {
     "name": "stdout",
     "output_type": "stream",
     "text": [
      "[[1.0000000e+00 0.0000000e+00]\n",
      " [8.8817842e-16 1.0000000e+00]]\n"
     ]
    }
   ],
   "source": [
    "print(C.dot(inversa_C))"
   ]
  },
  {
   "cell_type": "code",
   "execution_count": 43,
   "metadata": {},
   "outputs": [
    {
     "name": "stdout",
     "output_type": "stream",
     "text": [
      "[[1.00000000e+00 0.00000000e+00]\n",
      " [1.11022302e-16 1.00000000e+00]]\n"
     ]
    }
   ],
   "source": [
    "print(inversa_C.dot(C))"
   ]
  },
  {
   "cell_type": "code",
   "execution_count": null,
   "metadata": {},
   "outputs": [],
   "source": []
  }
 ],
 "metadata": {
  "kernelspec": {
   "display_name": "env",
   "language": "python",
   "name": "python3"
  },
  "language_info": {
   "codemirror_mode": {
    "name": "ipython",
    "version": 3
   },
   "file_extension": ".py",
   "mimetype": "text/x-python",
   "name": "python",
   "nbconvert_exporter": "python",
   "pygments_lexer": "ipython3",
   "version": "3.10.6 (main, Nov 14 2022, 16:10:14) [GCC 11.3.0]"
  },
  "orig_nbformat": 4,
  "vscode": {
   "interpreter": {
    "hash": "2637924643e3b3032b1185bf03999faff7578ef90cd0239f3e121143d24aa795"
   }
  }
 },
 "nbformat": 4,
 "nbformat_minor": 2
}
