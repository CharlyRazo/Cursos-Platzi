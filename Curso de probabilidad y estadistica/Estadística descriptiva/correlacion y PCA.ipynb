{
 "cells": [
  {
   "attachments": {},
   "cell_type": "markdown",
   "metadata": {},
   "source": [
    "# Correlaciones\n",
    "Cuando se tienen variables altamente correlacionadas es recomendable trabajar solo con una de ellas, ya que una puede proporcionar información de la otra por lo que incluir las dos estaría de más. La reducción de datos simplificaría el costo computacional por lo que es de vital importancia la reducción de variables cuando se pueda.\n",
    "\n",
    "La varianza se define como $\\sigma^2$; es decir:\n",
    "$$ \\sigma^2 = \\dfrac{1}{N-1} \\sum_{i=1}^{N} (x_i -\\mu)^2$$\n",
    "\n",
    "La covarianza es una medida "
   ]
  },
  {
   "cell_type": "code",
   "execution_count": null,
   "metadata": {},
   "outputs": [],
   "source": [
    "#"
   ]
  },
  {
   "cell_type": "code",
   "execution_count": null,
   "metadata": {},
   "outputs": [],
   "source": [
    "#"
   ]
  }
 ],
 "metadata": {
  "language_info": {
   "name": "python"
  },
  "orig_nbformat": 4
 },
 "nbformat": 4,
 "nbformat_minor": 2
}
