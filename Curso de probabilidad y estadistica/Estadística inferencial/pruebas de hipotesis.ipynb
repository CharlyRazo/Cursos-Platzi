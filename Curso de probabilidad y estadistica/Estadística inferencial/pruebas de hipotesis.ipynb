{
 "cells": [
  {
   "attachments": {},
   "cell_type": "markdown",
   "metadata": {},
   "source": [
    "# Prueba de hipótesis\n",
    "La prueba de hipótesis ayuda a juzgar si existe una diferencia significativa entre el tamaño de la muestra y el parámetro general, Los pasos a seguir son:\n",
    "1. Establecer una hipótesis nula $H_0$ y una hipotesis alternativa $H_1$\n",
    "2. Seleccionar el nivel de significacia\n",
    "3. Seleccionar el estadístico de prueba\n",
    "4. Formular la regla de decisión\n",
    "5. Interpretar los resultados y tomar una decisión"
   ]
  },
  {
   "attachments": {},
   "cell_type": "markdown",
   "metadata": {},
   "source": [
    "### Tipos de pruebas:\n",
    "1. **Distirbución t de student:** Se usa para estimar una media de población normalmente distribuida  a partir de una muestra pequeña que sigue una distribución normal y que desconocemos su desviación estandar\n",
    "2. **Coeficiente de Pearson** Se usa para medir la dependencia lineal (correlación) entre dos variables aleatorias cuantitativas.\n",
    "3. **Análisis de la varianza (ANOVA):** Debemos de saber la varianza de nuestras distribuciones. Se usa para comparar las varianzas entre las medias de distintos grupos."
   ]
  },
  {
   "attachments": {},
   "cell_type": "markdown",
   "metadata": {},
   "source": [
    "### Tipos de errores\n",
    "Las concluisiones a las que llegamos se basan en una muestra y es posible caer en errores, estos se clasifican de acuerdo a la siguiente tabla:\n",
    "\n",
    "|  |$H_0$ verdadera  |  $H_0$ falsa  | \n",
    "|:-------------------:|---|---|\n",
    "| Rechazamos $H_0$ | Error tipo I  | Decisión correcta | \n",
    "|  No rechazamos $H_0$   | Decisión correcta| Error tipo II| \n",
    "\n",
    "Se puede cuantificar la probabildiad de cometer dichos errores donde:\n",
    "- P(Error tipo I) = $\\alpha$\n",
    "- P(Error tipo II) = $\\beta$\n",
    "\n"
   ]
  },
  {
   "cell_type": "code",
   "execution_count": 1,
   "metadata": {},
   "outputs": [],
   "source": [
    "import numpy as np\n",
    "import pandas as pd\n",
    "import seaborn as sns\n",
    "import scipy.stats as st\n",
    "from scipy.stats import f_oneway\n",
    "from scipy.stats import ttest_ind"
   ]
  },
  {
   "cell_type": "code",
   "execution_count": 2,
   "metadata": {},
   "outputs": [
    {
     "data": {
      "text/html": [
       "<div>\n",
       "<style scoped>\n",
       "    .dataframe tbody tr th:only-of-type {\n",
       "        vertical-align: middle;\n",
       "    }\n",
       "\n",
       "    .dataframe tbody tr th {\n",
       "        vertical-align: top;\n",
       "    }\n",
       "\n",
       "    .dataframe thead th {\n",
       "        text-align: right;\n",
       "    }\n",
       "</style>\n",
       "<table border=\"1\" class=\"dataframe\">\n",
       "  <thead>\n",
       "    <tr style=\"text-align: right;\">\n",
       "      <th></th>\n",
       "      <th>sepal-length</th>\n",
       "      <th>sepal-width</th>\n",
       "      <th>petal-length</th>\n",
       "      <th>petal-width</th>\n",
       "      <th>class</th>\n",
       "    </tr>\n",
       "  </thead>\n",
       "  <tbody>\n",
       "    <tr>\n",
       "      <th>0</th>\n",
       "      <td>5.1</td>\n",
       "      <td>3.5</td>\n",
       "      <td>1.4</td>\n",
       "      <td>0.2</td>\n",
       "      <td>Iris-setosa</td>\n",
       "    </tr>\n",
       "    <tr>\n",
       "      <th>1</th>\n",
       "      <td>4.9</td>\n",
       "      <td>3.0</td>\n",
       "      <td>1.4</td>\n",
       "      <td>0.2</td>\n",
       "      <td>Iris-setosa</td>\n",
       "    </tr>\n",
       "    <tr>\n",
       "      <th>2</th>\n",
       "      <td>4.7</td>\n",
       "      <td>3.2</td>\n",
       "      <td>1.3</td>\n",
       "      <td>0.2</td>\n",
       "      <td>Iris-setosa</td>\n",
       "    </tr>\n",
       "    <tr>\n",
       "      <th>3</th>\n",
       "      <td>4.6</td>\n",
       "      <td>3.1</td>\n",
       "      <td>1.5</td>\n",
       "      <td>0.2</td>\n",
       "      <td>Iris-setosa</td>\n",
       "    </tr>\n",
       "    <tr>\n",
       "      <th>4</th>\n",
       "      <td>5.0</td>\n",
       "      <td>3.6</td>\n",
       "      <td>1.4</td>\n",
       "      <td>0.2</td>\n",
       "      <td>Iris-setosa</td>\n",
       "    </tr>\n",
       "  </tbody>\n",
       "</table>\n",
       "</div>"
      ],
      "text/plain": [
       "   sepal-length  sepal-width  petal-length  petal-width        class\n",
       "0           5.1          3.5           1.4          0.2  Iris-setosa\n",
       "1           4.9          3.0           1.4          0.2  Iris-setosa\n",
       "2           4.7          3.2           1.3          0.2  Iris-setosa\n",
       "3           4.6          3.1           1.5          0.2  Iris-setosa\n",
       "4           5.0          3.6           1.4          0.2  Iris-setosa"
      ]
     },
     "execution_count": 2,
     "metadata": {},
     "output_type": "execute_result"
    }
   ],
   "source": [
    "#usaremos la base de datos de las fores irir\n",
    "url = \"https://archive.ics.uci.edu/ml/machine-learning-databases/iris/iris.data\"\n",
    "names = ['sepal-length', 'sepal-width', 'petal-length', 'petal-width', 'class']\n",
    "iris = pd.read_csv(url, names=names)\n",
    "iris.head()"
   ]
  },
  {
   "attachments": {},
   "cell_type": "markdown",
   "metadata": {},
   "source": [
    "### Tipos de prueba: \n",
    "### 1) Prueba t de Student (para 2 muestras independientes)\n",
    "\n",
    "Esta prueba permite comparar promedios en dos grupos de muestras pequeñas (menores a 30) que cumplen con una distribución normal. Esto para comparar si las poblaciones son iguales o no\n",
    "\n",
    "\n",
    "Las hipótesis que ocupa son: <font color='blue'>Este es el paso 1 de establecer las hipotesis</font>\n",
    "\n",
    "$H_0:$ $\\mu_1 = \\mu_2$ Las distribuciones son iguales\n",
    "\n",
    "$H_1:$ $\\mu_1 \\neq \\mu_2$ Las distribuciones son distintas\n",
    "\n",
    "\n",
    "Realizaremos a continuación una pruba con un nivel de confianza del 95% ($\\alpha = 0.05$): <font color='blue'> Este es el paso 2, establecer el nivel de confianza</font>\n",
    "\n",
    "\n",
    "Esta prueba requiere calcular un estadístico de prueba: <font color='blue'> Este es el paso 3, establecer el estadístico de prueba</font>\n",
    "$$t = \\dfrac{\\bar{x}_1-\\bar{x}_2}{\\sqrt{\\sigma_1^2/N_1 + \\sigma_2^2/N_2}}$$\n",
    "\n",
    "\n",
    "La hipotesis nula $H_0$ se rechaza si $t_{(1- \\alpha/2)(N_1 + N_2 -2)} == t_{c} < |t|$ donde $t_c$ es un valor crítico que dependerá de $\\alpha, N_1$ y $N_2$.<font color='blue'> Este es el paso 4, establecer la regla de decición</font>"
   ]
  },
  {
   "cell_type": "code",
   "execution_count": 16,
   "metadata": {},
   "outputs": [],
   "source": [
    "# obtenemos las muestras de 20 elementos cada una\n",
    "sepal_length_sample = iris['sepal-length'].sample(n=20)\n",
    "sepal_width_sample =  iris['sepal-width'].sample(n=20)\n",
    "\n",
    "\n",
    "# Tamano de muestras\n",
    "n_1 = len(sepal_length_sample)\n",
    "n_2 = len(sepal_width_sample)\n",
    "\n",
    "# calculamos las medias muestrales\n",
    "x_1 = sepal_length_sample.mean()\n",
    "x_2 = sepal_width_sample.mean()\n",
    "\n",
    "# calculamos las desviaciones estandar\n",
    "s_length = sepal_length_sample.std()\n",
    "s_width = sepal_width_sample.std()"
   ]
  },
  {
   "cell_type": "code",
   "execution_count": 17,
   "metadata": {},
   "outputs": [
    {
     "data": {
      "text/plain": [
       "15.616294859638272"
      ]
     },
     "execution_count": 17,
     "metadata": {},
     "output_type": "execute_result"
    }
   ],
   "source": [
    "# calculamos el estadístico\n",
    "t_stat = (x_1 - x_2)/(np.sqrt(s_length**2/n_1 + s_width**2/n_2))\n",
    "t_stat"
   ]
  },
  {
   "cell_type": "code",
   "execution_count": null,
   "metadata": {},
   "outputs": [],
   "source": [
    "# el valor crítico t_c lo podemos encontrar en las tablas t-student\n",
    "# donde se ocupan los grados de libertad gl = N_1 + N_2 - 2 \n",
    "# y el valor de alfa/2 = 0.025 \n",
    "t_c = 2.0244"
   ]
  },
  {
   "attachments": {},
   "cell_type": "markdown",
   "metadata": {},
   "source": [
    "Como $t_c < t$ entonces se rechaza la hipótesis nula y podemos decir que las distribuciones son distintas. <font color='blue'> Este es el paso 5, la toma de decisión</font>\n",
    "\n",
    "Otra regla de decisión que se ocupa para la prueba es con ayuda del p-valor que es un estadístico que nos indica la importancia del resultado. Si p-valor < $\\alpha$ entonces se rechaza la hipótesis nula."
   ]
  },
  {
   "cell_type": "code",
   "execution_count": 19,
   "metadata": {},
   "outputs": [
    {
     "data": {
      "text/plain": [
       "Ttest_indResult(statistic=15.61629485963827, pvalue=4.0175326140640575e-18)"
      ]
     },
     "execution_count": 19,
     "metadata": {},
     "output_type": "execute_result"
    }
   ],
   "source": [
    "ttest_ind(sepal_length_sample, sepal_width_sample)"
   ]
  },
  {
   "attachments": {},
   "cell_type": "markdown",
   "metadata": {},
   "source": [
    "Donde el primer valor es el estadístico t calculado anteriormente, mientras que el segundo valor es el p-valor.\n",
    "\n",
    "Como $p = 4.01\\times 10^{-18} << \\alpha = 0.05$, entonces rechazamos la hipótesis nula y nos vamos por la alternativa.\n",
    "\n"
   ]
  },
  {
   "attachments": {},
   "cell_type": "markdown",
   "metadata": {},
   "source": [
    "### 2. Prueba de correlación y coeficiente de Pearson"
   ]
  },
  {
   "attachments": {},
   "cell_type": "markdown",
   "metadata": {},
   "source": [
    "Esta prueba nos permite saber que tan correlacionadas están dos variables. LAS Hipótesis son:\n",
    "\n",
    "$H_0$: No están correlaciondas\n",
    "$H_1$: Si están correlacionadas\n",
    "\n",
    "Con un nivel de confianza del 95% ($\\alpha = 0.05%$).\n",
    "\n",
    "Y la siguiente regla de decisión: si el $p-valor < \\alpha$, se rechaza la hipótesis nula."
   ]
  },
  {
   "cell_type": "code",
   "execution_count": 29,
   "metadata": {},
   "outputs": [
    {
     "name": "stderr",
     "output_type": "stream",
     "text": [
      "/tmp/ipykernel_313/2648216887.py:2: FutureWarning: The default value of numeric_only in DataFrame.corr is deprecated. In a future version, it will default to False. Select only valid columns or specify the value of numeric_only to silence this warning.\n",
      "  iris.corr(method = 'pearson')\n"
     ]
    },
    {
     "data": {
      "text/html": [
       "<div>\n",
       "<style scoped>\n",
       "    .dataframe tbody tr th:only-of-type {\n",
       "        vertical-align: middle;\n",
       "    }\n",
       "\n",
       "    .dataframe tbody tr th {\n",
       "        vertical-align: top;\n",
       "    }\n",
       "\n",
       "    .dataframe thead th {\n",
       "        text-align: right;\n",
       "    }\n",
       "</style>\n",
       "<table border=\"1\" class=\"dataframe\">\n",
       "  <thead>\n",
       "    <tr style=\"text-align: right;\">\n",
       "      <th></th>\n",
       "      <th>sepal-length</th>\n",
       "      <th>sepal-width</th>\n",
       "      <th>petal-length</th>\n",
       "      <th>petal-width</th>\n",
       "    </tr>\n",
       "  </thead>\n",
       "  <tbody>\n",
       "    <tr>\n",
       "      <th>sepal-length</th>\n",
       "      <td>1.000000</td>\n",
       "      <td>-0.109369</td>\n",
       "      <td>0.871754</td>\n",
       "      <td>0.817954</td>\n",
       "    </tr>\n",
       "    <tr>\n",
       "      <th>sepal-width</th>\n",
       "      <td>-0.109369</td>\n",
       "      <td>1.000000</td>\n",
       "      <td>-0.420516</td>\n",
       "      <td>-0.356544</td>\n",
       "    </tr>\n",
       "    <tr>\n",
       "      <th>petal-length</th>\n",
       "      <td>0.871754</td>\n",
       "      <td>-0.420516</td>\n",
       "      <td>1.000000</td>\n",
       "      <td>0.962757</td>\n",
       "    </tr>\n",
       "    <tr>\n",
       "      <th>petal-width</th>\n",
       "      <td>0.817954</td>\n",
       "      <td>-0.356544</td>\n",
       "      <td>0.962757</td>\n",
       "      <td>1.000000</td>\n",
       "    </tr>\n",
       "  </tbody>\n",
       "</table>\n",
       "</div>"
      ],
      "text/plain": [
       "              sepal-length  sepal-width  petal-length  petal-width\n",
       "sepal-length      1.000000    -0.109369      0.871754     0.817954\n",
       "sepal-width      -0.109369     1.000000     -0.420516    -0.356544\n",
       "petal-length      0.871754    -0.420516      1.000000     0.962757\n",
       "petal-width       0.817954    -0.356544      0.962757     1.000000"
      ]
     },
     "execution_count": 29,
     "metadata": {},
     "output_type": "execute_result"
    }
   ],
   "source": [
    "#calculamos las correlaciones\n",
    "iris.corr(method = 'pearson')"
   ]
  },
  {
   "attachments": {},
   "cell_type": "markdown",
   "metadata": {},
   "source": [
    "Observamos que la correlación entre sepal-length  y sepal-width es de -0.109; es decir, es casi inexistente. Podemos calcular ésta misma correlación junto con su p-value con el siguiente comando de scipy, el cual, para calcular el p-valor, establece las mismas hipótesis que las que tenemos nosotros:"
   ]
  },
  {
   "cell_type": "code",
   "execution_count": 28,
   "metadata": {},
   "outputs": [
    {
     "data": {
      "text/plain": [
       "PearsonRResult(statistic=-0.10936924995064937, pvalue=0.1827652152713699)"
      ]
     },
     "execution_count": 28,
     "metadata": {},
     "output_type": "execute_result"
    }
   ],
   "source": [
    "#calculamos nuevamente el coef. de pearson o correlación con su p-valor\n",
    "st.pearsonr(iris['sepal-length'], iris['sepal-width'])"
   ]
  },
  {
   "attachments": {},
   "cell_type": "markdown",
   "metadata": {},
   "source": [
    "Al obtener un p-valor > $\\alpha$ aceptamos la hipótesis nula de que las variables no están correlacionadas."
   ]
  },
  {
   "attachments": {},
   "cell_type": "markdown",
   "metadata": {},
   "source": [
    "### 3. Prueba de análisis de varianza (ANOVA)\n",
    "Esta prueba nos permite saber que tan similares son dos distribuciones por medio de sus varianzas.Las hipótesis son:\n",
    "\n",
    "$H_0$: Las distribuciones son similares\n",
    "$H_1$: Las distribuciones son diferentes\n",
    "\n",
    "El nivel de confianza es del 95%.\n",
    "\n",
    "\n",
    "La regla de decisión es la misma que las anteriores pruebas, si el $p-valor < \\alpha$, se rechaza la hipótesis nula."
   ]
  },
  {
   "cell_type": "code",
   "execution_count": 27,
   "metadata": {},
   "outputs": [
    {
     "data": {
      "text/plain": [
       "F_onewayResult(statistic=1335.7678308241748, pvalue=3.9878381148486907e-112)"
      ]
     },
     "execution_count": 27,
     "metadata": {},
     "output_type": "execute_result"
    }
   ],
   "source": [
    "f_oneway(iris['sepal-length'], iris['sepal-width'])"
   ]
  },
  {
   "attachments": {},
   "cell_type": "markdown",
   "metadata": {},
   "source": [
    "Al obtener un p-valor < $\\alpha$ rechazamos la hipótesis nula, por lo que hay diferencia entre ambas distribuciones."
   ]
  }
 ],
 "metadata": {
  "kernelspec": {
   "display_name": "env",
   "language": "python",
   "name": "python3"
  },
  "language_info": {
   "codemirror_mode": {
    "name": "ipython",
    "version": 3
   },
   "file_extension": ".py",
   "mimetype": "text/x-python",
   "name": "python",
   "nbconvert_exporter": "python",
   "pygments_lexer": "ipython3",
   "version": "3.10.6"
  },
  "orig_nbformat": 4,
  "vscode": {
   "interpreter": {
    "hash": "2637924643e3b3032b1185bf03999faff7578ef90cd0239f3e121143d24aa795"
   }
  }
 },
 "nbformat": 4,
 "nbformat_minor": 2
}
